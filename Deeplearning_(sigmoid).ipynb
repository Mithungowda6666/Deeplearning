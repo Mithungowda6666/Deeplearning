{
  "nbformat": 4,
  "nbformat_minor": 0,
  "metadata": {
    "colab": {
      "provenance": []
    },
    "kernelspec": {
      "name": "python3",
      "display_name": "Python 3"
    },
    "language_info": {
      "name": "python"
    }
  },
  "cells": [
    {
      "cell_type": "code",
      "execution_count": 1,
      "metadata": {
        "id": "23C1RkG8GQAg"
      },
      "outputs": [],
      "source": [
        "import math\n",
        "\n",
        "def basic_sigmoid_function(X):\n",
        "  s = 1 / (1+ math.exp(-X))\n",
        "  return s"
      ]
    },
    {
      "cell_type": "code",
      "source": [
        "print(basic_sigmoid_function(-1))"
      ],
      "metadata": {
        "colab": {
          "base_uri": "https://localhost:8080/"
        },
        "id": "kcoP32i4GqPd",
        "outputId": "f8427d92-c1e3-45f7-9f9b-bca2111c3680"
      },
      "execution_count": 2,
      "outputs": [
        {
          "output_type": "stream",
          "name": "stdout",
          "text": [
            "0.2689414213699951\n"
          ]
        }
      ]
    },
    {
      "cell_type": "code",
      "source": [
        "import numpy as np\n",
        "\n",
        "z = np.array([1,2,3])\n",
        "print(np.exp(z))"
      ],
      "metadata": {
        "colab": {
          "base_uri": "https://localhost:8080/"
        },
        "id": "u9iKIXxNGwmj",
        "outputId": "83ee2ccb-f21f-4cab-c7eb-807ba063f729"
      },
      "execution_count": 3,
      "outputs": [
        {
          "output_type": "stream",
          "name": "stdout",
          "text": [
            "[ 2.71828183  7.3890561  20.08553692]\n"
          ]
        }
      ]
    },
    {
      "cell_type": "code",
      "source": [
        "print(z + 3)"
      ],
      "metadata": {
        "colab": {
          "base_uri": "https://localhost:8080/"
        },
        "id": "Bb5QrYc5HGlY",
        "outputId": "a5ba01e5-5729-4901-e506-a7bb67c59e5b"
      },
      "execution_count": 4,
      "outputs": [
        {
          "output_type": "stream",
          "name": "stdout",
          "text": [
            "[4 5 6]\n"
          ]
        }
      ]
    },
    {
      "cell_type": "code",
      "source": [
        "def sigmoid_function(z):\n",
        "  e = 1 / (1 + np.exp(-z))\n",
        "  return e\n",
        "\n",
        "print(sigmoid_function(z))"
      ],
      "metadata": {
        "colab": {
          "base_uri": "https://localhost:8080/"
        },
        "id": "kykPA1tcHAVL",
        "outputId": "a025b3f3-8ddb-45d3-b2dd-cff8a546f2db"
      },
      "execution_count": 5,
      "outputs": [
        {
          "output_type": "stream",
          "name": "stdout",
          "text": [
            "[0.73105858 0.88079708 0.95257413]\n"
          ]
        }
      ]
    },
    {
      "cell_type": "code",
      "source": [
        "def gradient_sigmoid_derrivative(z):\n",
        "  sd = sigmoid_function(z) * (1- sigmoid_function(z))\n",
        "  return sd\n",
        "print(gradient_sigmoid_derrivative(z))"
      ],
      "metadata": {
        "colab": {
          "base_uri": "https://localhost:8080/"
        },
        "id": "ww35cJtdIM7-",
        "outputId": "abc655af-efb7-4097-948a-cdf86f3d1447"
      },
      "execution_count": 6,
      "outputs": [
        {
          "output_type": "stream",
          "name": "stdout",
          "text": [
            "[0.19661193 0.10499359 0.04517666]\n"
          ]
        }
      ]
    },
    {
      "cell_type": "code",
      "source": [
        "def image_2_vector(images):\n",
        "  x = images.reshape(images.shape[0]*images.shape[1] * images.shape[2],1)\n",
        "  return x"
      ],
      "metadata": {
        "id": "3jAHy6i1MoAC"
      },
      "execution_count": 7,
      "outputs": []
    },
    {
      "cell_type": "code",
      "source": [
        "images = np.array([[[ 0.67826139, 0.29380381],\n",
        "            [ 0.90714982, 0.52835647],\n",
        "            [ 0.4215251, 0.45017551]],\n",
        "\n",
        "            [[ 0.92814219, 0.96677647],\n",
        "            [ 0.85304703, 0.52351845],\n",
        "            [0.19981397, 0.27417313]],\n",
        "\n",
        "            [[ 0.60659855, 0.00533165],\n",
        "            [ 0.10820313, 0.49978937],\n",
        "            [0.34144279, 0.94630077]]])\n",
        "print(str(image_2_vector(images)))"
      ],
      "metadata": {
        "colab": {
          "base_uri": "https://localhost:8080/"
        },
        "id": "CiVk_l5DLM-z",
        "outputId": "cc7e3235-a14f-4c46-9256-011f6975eb71"
      },
      "execution_count": 8,
      "outputs": [
        {
          "output_type": "stream",
          "name": "stdout",
          "text": [
            "[[0.67826139]\n",
            " [0.29380381]\n",
            " [0.90714982]\n",
            " [0.52835647]\n",
            " [0.4215251 ]\n",
            " [0.45017551]\n",
            " [0.92814219]\n",
            " [0.96677647]\n",
            " [0.85304703]\n",
            " [0.52351845]\n",
            " [0.19981397]\n",
            " [0.27417313]\n",
            " [0.60659855]\n",
            " [0.00533165]\n",
            " [0.10820313]\n",
            " [0.49978937]\n",
            " [0.34144279]\n",
            " [0.94630077]]\n"
          ]
        }
      ]
    },
    {
      "cell_type": "code",
      "source": [
        "def normilization_Rows(a):\n",
        "  a_normilize = np.linalg.norm(a,axis = 1 , keepdims = True)\n",
        "  a = a/a_normilize\n",
        "  return a"
      ],
      "metadata": {
        "id": "ifHZGF9-PNTk"
      },
      "execution_count": 9,
      "outputs": []
    },
    {
      "cell_type": "code",
      "source": [
        "a = np.array([[0,1000,4],[2,6,4]])\n",
        "print(str(normilization_Rows(a)))"
      ],
      "metadata": {
        "colab": {
          "base_uri": "https://localhost:8080/"
        },
        "id": "iVH5GBRJQEoA",
        "outputId": "868dcc87-1fd7-4b56-90fc-2ae74218cb28"
      },
      "execution_count": 10,
      "outputs": [
        {
          "output_type": "stream",
          "name": "stdout",
          "text": [
            "[[0.         0.999992   0.00399997]\n",
            " [0.26726124 0.80178373 0.53452248]]\n"
          ]
        }
      ]
    },
    {
      "cell_type": "code",
      "source": [
        "def softmax_function(x):\n",
        "  exp_x = np.exp(x)\n",
        "  x_sum = np.sum(exp_x , axis = 1 , keepdims = True)\n",
        "  v = exp_x / x_sum\n",
        "  return v"
      ],
      "metadata": {
        "id": "G5aKU3JwQ1sF"
      },
      "execution_count": 11,
      "outputs": []
    },
    {
      "cell_type": "code",
      "source": [
        "x = np.array([\n",
        "    [6, 4, 9, 6, 5],\n",
        "    [9, 8, 4, 0 ,3]])\n",
        "print(str(softmax_function(x)))"
      ],
      "metadata": {
        "colab": {
          "base_uri": "https://localhost:8080/"
        },
        "id": "6xEx0DPYSk5c",
        "outputId": "e882db4f-46e7-4abd-8b52-bf4ff01f59d5"
      },
      "execution_count": 12,
      "outputs": [
        {
          "output_type": "stream",
          "name": "stdout",
          "text": [
            "[[4.42698214e-02 5.99126881e-03 8.89183131e-01 4.42698214e-02\n",
            "  1.62859571e-02]\n",
            " [7.26100642e-01 2.67117499e-01 4.89242764e-03 8.96079380e-05\n",
            "  1.79982355e-03]]\n"
          ]
        }
      ]
    },
    {
      "cell_type": "code",
      "source": [
        "import time\n",
        "\n",
        "x1 = [9, 2, 5, 0, 0, 7, 5, 0, 0, 0, 9, 2, 5, 0, 0]\n",
        "x2 = [9, 2, 2, 9, 0, 9, 2, 5, 0, 0, 9, 2, 5, 0, 0]\n",
        "\n",
        "tic = time.process_time()\n",
        "dot = 0\n",
        "for i in range(len(x1)):\n",
        "    dot+= x1[i]*x2[i]\n",
        "toc = time.process_time()\n",
        "print(str(dot)+\"\\n\"+ str(1000*(toc-tic))+\"ms\")\n",
        "\n",
        "# VECTORIZED DOT IMPLEMENTATION\n",
        "tic = time.process_time()\n",
        "outer = np.zeros((len(x1),len(x2)))\n",
        "for i in range(len(x1)):\n",
        "    for j in range(len(x2)):\n",
        "        outer[i,j] = x1[i]*x2[j]\n",
        "toc = time.process_time()\n",
        "print(str(outer)+\"\\n\"+ str(1000*(toc-tic))+\"ms\")"
      ],
      "metadata": {
        "colab": {
          "base_uri": "https://localhost:8080/"
        },
        "id": "XyiWh2W2TXQl",
        "outputId": "1175b29c-308d-4e34-aa31-641a340bbd8a"
      },
      "execution_count": 13,
      "outputs": [
        {
          "output_type": "stream",
          "name": "stdout",
          "text": [
            "278\n",
            "0.19679999999988596ms\n",
            "[[81. 18. 18. 81.  0. 81. 18. 45.  0.  0. 81. 18. 45.  0.  0.]\n",
            " [18.  4.  4. 18.  0. 18.  4. 10.  0.  0. 18.  4. 10.  0.  0.]\n",
            " [45. 10. 10. 45.  0. 45. 10. 25.  0.  0. 45. 10. 25.  0.  0.]\n",
            " [ 0.  0.  0.  0.  0.  0.  0.  0.  0.  0.  0.  0.  0.  0.  0.]\n",
            " [ 0.  0.  0.  0.  0.  0.  0.  0.  0.  0.  0.  0.  0.  0.  0.]\n",
            " [63. 14. 14. 63.  0. 63. 14. 35.  0.  0. 63. 14. 35.  0.  0.]\n",
            " [45. 10. 10. 45.  0. 45. 10. 25.  0.  0. 45. 10. 25.  0.  0.]\n",
            " [ 0.  0.  0.  0.  0.  0.  0.  0.  0.  0.  0.  0.  0.  0.  0.]\n",
            " [ 0.  0.  0.  0.  0.  0.  0.  0.  0.  0.  0.  0.  0.  0.  0.]\n",
            " [ 0.  0.  0.  0.  0.  0.  0.  0.  0.  0.  0.  0.  0.  0.  0.]\n",
            " [81. 18. 18. 81.  0. 81. 18. 45.  0.  0. 81. 18. 45.  0.  0.]\n",
            " [18.  4.  4. 18.  0. 18.  4. 10.  0.  0. 18.  4. 10.  0.  0.]\n",
            " [45. 10. 10. 45.  0. 45. 10. 25.  0.  0. 45. 10. 25.  0.  0.]\n",
            " [ 0.  0.  0.  0.  0.  0.  0.  0.  0.  0.  0.  0.  0.  0.  0.]\n",
            " [ 0.  0.  0.  0.  0.  0.  0.  0.  0.  0.  0.  0.  0.  0.  0.]]\n",
            "0.4337799999998282ms\n"
          ]
        }
      ]
    },
    {
      "cell_type": "code",
      "source": [
        "x1 = np.random.rand(10000)\n",
        "x2 = np.random.rand(10000)\n",
        "\n",
        "tic = time.process_time()\n",
        "dot = 0\n",
        "for i in range(len(x1)):\n",
        "  dot+= x1[i]*x2[i]\n",
        "toc = time.process_time()\n",
        "print(\"dot = \" +str(dot)+\"\\n -----computation Time --------\" + str(1000*(toc-tic)) +\"ms\")"
      ],
      "metadata": {
        "colab": {
          "base_uri": "https://localhost:8080/"
        },
        "id": "09i24JJNVXyP",
        "outputId": "c39b969b-059d-4225-a8bd-5a30549ee921"
      },
      "execution_count": 21,
      "outputs": [
        {
          "output_type": "stream",
          "name": "stdout",
          "text": [
            "dot = 2485.793146233248\n",
            " -----computation Time --------8.937783000000366ms\n"
          ]
        }
      ]
    },
    {
      "cell_type": "code",
      "source": [
        "tic = time.process_time()\n",
        "dot = np.dot(x1,x2)\n",
        "toc = time.process_time()\n",
        "print(\"dot = \" +str(dot)+\"\\n -----computation Time --------\" + str(1000*(toc-tic)) +\"ms\")"
      ],
      "metadata": {
        "colab": {
          "base_uri": "https://localhost:8080/"
        },
        "id": "oTzIeHlE1kWB",
        "outputId": "a21ad85f-f718-4adc-d322-0ab55a4d3353"
      },
      "execution_count": 20,
      "outputs": [
        {
          "output_type": "stream",
          "name": "stdout",
          "text": [
            "dot = 2515.742811616814\n",
            " -----computation Time --------0.1793670000003189ms\n"
          ]
        }
      ]
    }
  ]
}